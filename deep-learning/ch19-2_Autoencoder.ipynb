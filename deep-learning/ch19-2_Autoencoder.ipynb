{
 "cells": [
  {
   "cell_type": "markdown",
   "metadata": {
    "colab_type": "text",
    "id": "view-in-github"
   },
   "source": [
    "<a href=\"https://colab.research.google.com/github/zzhining/deeplearning/blob/master/deeplearning/ilifo_class/ch19-2_Autoencoder.ipynb\" target=\"_parent\"><img src=\"https://colab.research.google.com/assets/colab-badge.svg\" alt=\"Open In Colab\"/></a>"
   ]
  },
  {
   "cell_type": "markdown",
   "metadata": {
    "colab_type": "text",
    "id": "3kk7P-S3QYRV"
   },
   "source": [
    "# 오토인코더\n",
    "\n",
    "- 데이터의 특징을 잘 담아내는 이미지를 만들어주는 신경망\n",
    "- 부족한 학습 데이터 수를 효과적으로 늘려줌\n",
    "- 인코더(Encode)와 디코더(Decoder)로 구성"
   ]
  },
  {
   "cell_type": "code",
   "execution_count": 1,
   "metadata": {
    "colab": {},
    "colab_type": "code",
    "id": "U0K-ScqHQCbE"
   },
   "outputs": [],
   "source": [
    "from tensorflow.keras.datasets import mnist\n",
    "from tensorflow.keras.models import Sequential, Model\n",
    "from tensorflow.keras.layers import Input, Dense, Conv2D, MaxPooling2D, UpSampling2D, Flatten, Reshape\n",
    "import matplotlib.pyplot as plt\n",
    "import numpy as np"
   ]
  },
  {
   "cell_type": "markdown",
   "metadata": {
    "colab_type": "text",
    "id": "IXVr0Iz9QxU9"
   },
   "source": [
    "### 1. 데이터셋 로드"
   ]
  },
  {
   "cell_type": "code",
   "execution_count": 2,
   "metadata": {
    "colab": {
     "base_uri": "https://localhost:8080/",
     "height": 52
    },
    "colab_type": "code",
    "id": "KuPBe-tAQCbI",
    "outputId": "86d45fab-372b-48be-b0f1-8e4cdf2265e2"
   },
   "outputs": [],
   "source": [
    "#MNIST데이터 셋을 불러옵니다.\n",
    "\n",
    "(X_train, _), (X_test, _) = mnist.load_data()\n",
    "X_train = X_train.reshape(X_train.shape[0], 28, 28, 1).astype('float32') / 255\n",
    "X_test = X_test.reshape(X_test.shape[0], 28, 28, 1).astype('float32') / 255"
   ]
  },
  {
   "cell_type": "markdown",
   "metadata": {
    "colab_type": "text",
    "id": "GfgxFB9CQ5fe"
   },
   "source": [
    "### 2. 모델 생성"
   ]
  },
  {
   "cell_type": "code",
   "execution_count": 3,
   "metadata": {
    "colab": {},
    "colab_type": "code",
    "id": "Me_PAugaQCbL"
   },
   "outputs": [],
   "source": [
    "#생성자 모델을 만듭니다.\n",
    "autoencoder = Sequential()"
   ]
  },
  {
   "cell_type": "markdown",
   "metadata": {
    "colab_type": "text",
    "id": "vkbOStLiRAgn"
   },
   "source": [
    "#### 2-1. 인코더: 입력값의 차원을 축소시킴\n",
    "- MaxPooling: 입력크기를 줄임"
   ]
  },
  {
   "cell_type": "code",
   "execution_count": 4,
   "metadata": {
    "colab": {},
    "colab_type": "code",
    "id": "gdz8kTQaQCbN"
   },
   "outputs": [],
   "source": [
    "# 인코딩 부분입니다.\n",
    "autoencoder.add(Conv2D(16, kernel_size=3, padding='same', input_shape=(28,28,1), activation='relu'))\n",
    "autoencoder.add(MaxPooling2D(pool_size=2, padding='same'))\n",
    "autoencoder.add(Conv2D(8, kernel_size=3, activation='relu', padding='same'))\n",
    "autoencoder.add(MaxPooling2D(pool_size=2, padding='same'))\n",
    "autoencoder.add(Conv2D(8, kernel_size=3, strides=2, padding='same', activation='relu'))"
   ]
  },
  {
   "cell_type": "markdown",
   "metadata": {
    "colab_type": "text",
    "id": "caepcuycRIJ4"
   },
   "source": [
    "#### 2-2. 디코더: 입력값과 같은 크기의 출력값으로 변형\n",
    "- UpSampling: 출력 크기를 늘림"
   ]
  },
  {
   "cell_type": "code",
   "execution_count": 5,
   "metadata": {
    "colab": {},
    "colab_type": "code",
    "id": "zSCXIOPjQCbP"
   },
   "outputs": [],
   "source": [
    "# 디코딩 부분이 이어집니다. \n",
    "autoencoder.add(Conv2D(8, kernel_size=3, padding='same', activation='relu'))\n",
    "autoencoder.add(UpSampling2D())\n",
    "autoencoder.add(Conv2D(8, kernel_size=3, padding='same', activation='relu'))\n",
    "autoencoder.add(UpSampling2D())\n",
    "autoencoder.add(Conv2D(16, kernel_size=3, activation='relu'))\n",
    "autoencoder.add(UpSampling2D())\n",
    "autoencoder.add(Conv2D(1, kernel_size=3, padding='same', activation='sigmoid'))"
   ]
  },
  {
   "cell_type": "code",
   "execution_count": 6,
   "metadata": {
    "colab": {
     "base_uri": "https://localhost:8080/",
     "height": 580
    },
    "colab_type": "code",
    "id": "LLJ7dgDWQCbS",
    "outputId": "a2e8b16b-c38e-4768-937b-f889b53fd48d"
   },
   "outputs": [
    {
     "name": "stdout",
     "output_type": "stream",
     "text": [
      "Model: \"sequential\"\n",
      "_________________________________________________________________\n",
      "Layer (type)                 Output Shape              Param #   \n",
      "=================================================================\n",
      "conv2d (Conv2D)              (None, 28, 28, 16)        160       \n",
      "_________________________________________________________________\n",
      "max_pooling2d (MaxPooling2D) (None, 14, 14, 16)        0         \n",
      "_________________________________________________________________\n",
      "conv2d_1 (Conv2D)            (None, 14, 14, 8)         1160      \n",
      "_________________________________________________________________\n",
      "max_pooling2d_1 (MaxPooling2 (None, 7, 7, 8)           0         \n",
      "_________________________________________________________________\n",
      "conv2d_2 (Conv2D)            (None, 4, 4, 8)           584       \n",
      "_________________________________________________________________\n",
      "conv2d_3 (Conv2D)            (None, 4, 4, 8)           584       \n",
      "_________________________________________________________________\n",
      "up_sampling2d (UpSampling2D) (None, 8, 8, 8)           0         \n",
      "_________________________________________________________________\n",
      "conv2d_4 (Conv2D)            (None, 8, 8, 8)           584       \n",
      "_________________________________________________________________\n",
      "up_sampling2d_1 (UpSampling2 (None, 16, 16, 8)         0         \n",
      "_________________________________________________________________\n",
      "conv2d_5 (Conv2D)            (None, 14, 14, 16)        1168      \n",
      "_________________________________________________________________\n",
      "up_sampling2d_2 (UpSampling2 (None, 28, 28, 16)        0         \n",
      "_________________________________________________________________\n",
      "conv2d_6 (Conv2D)            (None, 28, 28, 1)         145       \n",
      "=================================================================\n",
      "Total params: 4,385\n",
      "Trainable params: 4,385\n",
      "Non-trainable params: 0\n",
      "_________________________________________________________________\n"
     ]
    }
   ],
   "source": [
    "# 전체 구조를 확인해 봅니다.\n",
    "autoencoder.summary()"
   ]
  },
  {
   "cell_type": "code",
   "execution_count": null,
   "metadata": {
    "colab": {},
    "colab_type": "code",
    "id": "Evy7YMF5QCbV"
   },
   "outputs": [
    {
     "name": "stdout",
     "output_type": "stream",
     "text": [
      "Epoch 1/50\n",
      "469/469 [==============================] - 97s 206ms/step - loss: 0.2057 - val_loss: 0.1392\n",
      "Epoch 2/50\n",
      "469/469 [==============================] - 96s 205ms/step - loss: 0.1292 - val_loss: 0.1202\n",
      "Epoch 3/50\n",
      "469/469 [==============================] - 96s 204ms/step - loss: 0.1169 - val_loss: 0.1120\n",
      "Epoch 4/50\n",
      "469/469 [==============================] - 95s 202ms/step - loss: 0.1108 - val_loss: 0.1081\n",
      "Epoch 5/50\n",
      "469/469 [==============================] - 95s 203ms/step - loss: 0.1068 - val_loss: 0.1037\n",
      "Epoch 6/50\n",
      "469/469 [==============================] - 96s 205ms/step - loss: 0.1041 - val_loss: 0.1016\n",
      "Epoch 7/50\n",
      "469/469 [==============================] - 95s 202ms/step - loss: 0.1018 - val_loss: 0.1001\n",
      "Epoch 8/50\n",
      "469/469 [==============================] - 96s 204ms/step - loss: 0.1000 - val_loss: 0.0978\n",
      "Epoch 9/50\n",
      "469/469 [==============================] - 97s 206ms/step - loss: 0.0986 - val_loss: 0.0966\n",
      "Epoch 10/50\n",
      "469/469 [==============================] - 96s 204ms/step - loss: 0.0973 - val_loss: 0.0956\n",
      "Epoch 11/50\n",
      "469/469 [==============================] - 95s 202ms/step - loss: 0.0962 - val_loss: 0.0947\n",
      "Epoch 12/50\n",
      "469/469 [==============================] - 96s 204ms/step - loss: 0.0953 - val_loss: 0.0937\n",
      "Epoch 13/50\n",
      "469/469 [==============================] - 96s 204ms/step - loss: 0.0945 - val_loss: 0.0928\n",
      "Epoch 14/50\n",
      "469/469 [==============================] - 96s 205ms/step - loss: 0.0937 - val_loss: 0.0921\n",
      "Epoch 15/50\n",
      "469/469 [==============================] - 95s 203ms/step - loss: 0.0930 - val_loss: 0.0917\n",
      "Epoch 16/50\n",
      "469/469 [==============================] - 99s 211ms/step - loss: 0.0924 - val_loss: 0.0913\n",
      "Epoch 17/50\n",
      "469/469 [==============================] - 102s 218ms/step - loss: 0.0918 - val_loss: 0.0903\n",
      "Epoch 18/50\n",
      " 95/469 [=====>........................] - ETA: 1:12 - loss: 0.0914"
     ]
    }
   ],
   "source": [
    "# 컴파일 및 학습을 하는 부분입니다.\n",
    "autoencoder.compile(optimizer='adam', loss='binary_crossentropy')\n",
    "autoencoder.fit(X_train, X_train, epochs=50, batch_size=128, validation_data=(X_test, X_test))"
   ]
  },
  {
   "cell_type": "code",
   "execution_count": null,
   "metadata": {
    "colab": {},
    "colab_type": "code",
    "id": "O4GYA1dAQCbY",
    "outputId": "c728312b-a696-42c5-8838-ea20d20891f8"
   },
   "outputs": [],
   "source": [
    "#학습된 결과를 출력하는 부분입니다.\n",
    "random_test = np.random.randint(X_test.shape[0], size=5)  #테스트할 이미지를 랜덤하게 불러옵니다.\n",
    "ae_imgs = autoencoder.predict(X_test)  #앞서 만든 오토인코더 모델에 집어 넣습니다.\n",
    "\n",
    "plt.figure(figsize=(7, 2))  #출력될 이미지의 크기를 정합니다.\n",
    "\n",
    "for i, image_idx in enumerate(random_test):    #랜덤하게 뽑은 이미지를 차례로 나열합니다.\n",
    "   ax = plt.subplot(2, 7, i + 1) \n",
    "   plt.imshow(X_test[image_idx].reshape(28, 28))  #테스트할 이미지를 먼저 그대로 보여줍니다.\n",
    "   ax.axis('off')\n",
    "   ax = plt.subplot(2, 7, 7 + i +1)\n",
    "   plt.imshow(ae_imgs[image_idx].reshape(28, 28))  #오토인코딩 결과를 다음열에 출력합니다.\n",
    "   ax.axis('off')\n",
    "plt.show()"
   ]
  },
  {
   "cell_type": "code",
   "execution_count": null,
   "metadata": {
    "colab": {},
    "colab_type": "code",
    "id": "PCyicWJwQCbb"
   },
   "outputs": [],
   "source": []
  }
 ],
 "metadata": {
  "colab": {
   "include_colab_link": true,
   "name": "ch19-2_Autoencoder.ipynb",
   "provenance": []
  },
  "kernelspec": {
   "display_name": "Python 3",
   "language": "python",
   "name": "python3"
  },
  "language_info": {
   "codemirror_mode": {
    "name": "ipython",
    "version": 3
   },
   "file_extension": ".py",
   "mimetype": "text/x-python",
   "name": "python",
   "nbconvert_exporter": "python",
   "pygments_lexer": "ipython3",
   "version": "3.7.6"
  },
  "toc": {
   "base_numbering": 1,
   "nav_menu": {},
   "number_sections": false,
   "sideBar": true,
   "skip_h1_title": false,
   "title_cell": "Table of Contents",
   "title_sidebar": "Contents",
   "toc_cell": false,
   "toc_position": {},
   "toc_section_display": true,
   "toc_window_display": false
  }
 },
 "nbformat": 4,
 "nbformat_minor": 1
}
