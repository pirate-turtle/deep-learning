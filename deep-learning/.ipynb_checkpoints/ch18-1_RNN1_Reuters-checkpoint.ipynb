{
 "cells": [
  {
   "cell_type": "markdown",
   "metadata": {},
   "source": [
    "# 로이터 뉴스 카테고리 분류"
   ]
  },
  {
   "cell_type": "code",
   "execution_count": 1,
   "metadata": {},
   "outputs": [],
   "source": [
    "# -*- coding: utf-8 -*-\n",
    "# 코드 내부에 한글을 사용가능 하게 해주는 부분입니다.\n",
    "\n",
    "import numpy\n",
    "import tensorflow as tf\n",
    "import matplotlib.pyplot as plt\n",
    "\n",
    "# 로이터 뉴스 데이터셋 불러오기\n",
    "from keras.datasets import reuters\n",
    "from keras.models import Sequential\n",
    "#from tensorflow.keras.models import Sequential\n",
    "#from tensorflow.keras.layers import Dense,LSTM,Embedding\n",
    "from keras.layers import Dense, LSTM, Embedding\n",
    "from keras.preprocessing import sequence\n",
    "from keras.utils import np_utils"
   ]
  },
  {
   "cell_type": "markdown",
   "metadata": {},
   "source": [
    "## 1. 데이터 읽어오기\n",
    "## 2. 데이터 전처리"
   ]
  },
  {
   "cell_type": "code",
   "execution_count": 2,
   "metadata": {},
   "outputs": [
    {
     "name": "stdout",
     "output_type": "stream",
     "text": [
      "Downloading data from https://storage.googleapis.com/tensorflow/tf-keras-datasets/reuters.npz\n",
      "2113536/2110848 [==============================] - 0s 0us/step\n"
     ]
    }
   ],
   "source": [
    "# 불러온 데이터를 학습셋, 테스트셋으로 나누기\n",
    "(X_train, Y_train), (X_test, Y_test) = reuters.load_data(num_words=1000, test_split=0.2)"
   ]
  },
  {
   "cell_type": "code",
   "execution_count": 5,
   "metadata": {},
   "outputs": [
    {
     "data": {
      "text/plain": [
       "array([ 3,  4,  3, ..., 25,  3, 25], dtype=int64)"
      ]
     },
     "execution_count": 5,
     "metadata": {},
     "output_type": "execute_result"
    }
   ],
   "source": [
    "Y_train"
   ]
  },
  {
   "cell_type": "code",
   "execution_count": 6,
   "metadata": {},
   "outputs": [
    {
     "name": "stdout",
     "output_type": "stream",
     "text": [
      "46 카테고리\n"
     ]
    }
   ],
   "source": [
    "# 데이터 확인하기\n",
    "category = numpy.max(Y_train) + 1\n",
    "print(category, '카테고리')"
   ]
  },
  {
   "cell_type": "code",
   "execution_count": 7,
   "metadata": {},
   "outputs": [
    {
     "name": "stdout",
     "output_type": "stream",
     "text": [
      "8982 학습용 뉴스 기사\n"
     ]
    }
   ],
   "source": [
    "print(len(X_train), '학습용 뉴스 기사')"
   ]
  },
  {
   "cell_type": "code",
   "execution_count": 8,
   "metadata": {},
   "outputs": [
    {
     "name": "stdout",
     "output_type": "stream",
     "text": [
      "2246 테스트용 뉴스 기사\n"
     ]
    }
   ],
   "source": [
    "print(len(X_test), '테스트용 뉴스 기사')"
   ]
  },
  {
   "cell_type": "code",
   "execution_count": 9,
   "metadata": {},
   "outputs": [
    {
     "name": "stdout",
     "output_type": "stream",
     "text": [
      "[1, 2, 2, 8, 43, 10, 447, 5, 25, 207, 270, 5, 2, 111, 16, 369, 186, 90, 67, 7, 89, 5, 19, 102, 6, 19, 124, 15, 90, 67, 84, 22, 482, 26, 7, 48, 4, 49, 8, 864, 39, 209, 154, 6, 151, 6, 83, 11, 15, 22, 155, 11, 15, 7, 48, 9, 2, 2, 504, 6, 258, 6, 272, 11, 15, 22, 134, 44, 11, 15, 16, 8, 197, 2, 90, 67, 52, 29, 209, 30, 32, 132, 6, 109, 15, 17, 12]\n"
     ]
    }
   ],
   "source": [
    "print(X_train[0])"
   ]
  },
  {
   "cell_type": "code",
   "execution_count": 10,
   "metadata": {},
   "outputs": [],
   "source": [
    "# 데이터 전처리\n",
    "x_train = sequence.pad_sequences(X_train, maxlen=100)\n",
    "x_test = sequence.pad_sequences(X_test, maxlen=100)\n",
    "y_train = np_utils.to_categorical(Y_train)\n",
    "y_test = np_utils.to_categorical(Y_test)"
   ]
  },
  {
   "cell_type": "markdown",
   "metadata": {},
   "source": [
    "## 3. 모델 설계"
   ]
  },
  {
   "cell_type": "code",
   "execution_count": 12,
   "metadata": {},
   "outputs": [],
   "source": [
    "# 모델의 설정\n",
    "# RNN 계열은 활성화함수로 tanh를 사용\n",
    "model = Sequential()\n",
    "model.add(Embedding(1000, 100))\n",
    "model.add(LSTM(100, activation='tanh'))\n",
    "model.add(Dense(46, activation='softmax'))"
   ]
  },
  {
   "cell_type": "markdown",
   "metadata": {},
   "source": [
    "## 4. 모델 컴파일"
   ]
  },
  {
   "cell_type": "code",
   "execution_count": 13,
   "metadata": {},
   "outputs": [],
   "source": [
    "# 모델의 컴파일\n",
    "model.compile(loss='categorical_crossentropy',\n",
    "            optimizer='adam',\n",
    "            metrics=['accuracy'])"
   ]
  },
  {
   "cell_type": "markdown",
   "metadata": {},
   "source": [
    "## 5. 학습"
   ]
  },
  {
   "cell_type": "code",
   "execution_count": 14,
   "metadata": {},
   "outputs": [
    {
     "name": "stdout",
     "output_type": "stream",
     "text": [
      "Epoch 1/20\n",
      "90/90 [==============================] - 20s 223ms/step - loss: 2.5867 - accuracy: 0.3532 - val_loss: 2.1501 - val_accuracy: 0.4804\n",
      "Epoch 2/20\n",
      "90/90 [==============================] - 20s 221ms/step - loss: 2.0472 - accuracy: 0.4866 - val_loss: 1.9874 - val_accuracy: 0.5129\n",
      "Epoch 3/20\n",
      "90/90 [==============================] - 20s 223ms/step - loss: 1.8993 - accuracy: 0.5137 - val_loss: 1.7729 - val_accuracy: 0.5525\n",
      "Epoch 4/20\n",
      "90/90 [==============================] - 19s 217ms/step - loss: 1.7453 - accuracy: 0.5493 - val_loss: 1.7528 - val_accuracy: 0.5677\n",
      "Epoch 5/20\n",
      "90/90 [==============================] - 20s 218ms/step - loss: 1.6657 - accuracy: 0.5651 - val_loss: 1.6804 - val_accuracy: 0.5801\n",
      "Epoch 6/20\n",
      "90/90 [==============================] - 20s 225ms/step - loss: 1.6101 - accuracy: 0.5814 - val_loss: 1.6266 - val_accuracy: 0.5850\n",
      "Epoch 7/20\n",
      "90/90 [==============================] - 20s 220ms/step - loss: 1.5141 - accuracy: 0.6049 - val_loss: 1.5620 - val_accuracy: 0.6002\n",
      "Epoch 8/20\n",
      "90/90 [==============================] - 20s 222ms/step - loss: 1.4307 - accuracy: 0.6256 - val_loss: 1.5162 - val_accuracy: 0.6269\n",
      "Epoch 9/20\n",
      "90/90 [==============================] - 20s 225ms/step - loss: 1.3229 - accuracy: 0.6648 - val_loss: 1.4237 - val_accuracy: 0.6331\n",
      "Epoch 10/20\n",
      "90/90 [==============================] - 20s 220ms/step - loss: 1.2419 - accuracy: 0.6824 - val_loss: 1.3723 - val_accuracy: 0.6549\n",
      "Epoch 11/20\n",
      "90/90 [==============================] - 20s 219ms/step - loss: 1.1651 - accuracy: 0.7039 - val_loss: 1.3446 - val_accuracy: 0.6536\n",
      "Epoch 12/20\n",
      "90/90 [==============================] - 19s 215ms/step - loss: 1.1219 - accuracy: 0.7113 - val_loss: 1.2784 - val_accuracy: 0.6848\n",
      "Epoch 13/20\n",
      "90/90 [==============================] - 20s 220ms/step - loss: 1.0578 - accuracy: 0.7266 - val_loss: 1.2598 - val_accuracy: 0.6790\n",
      "Epoch 14/20\n",
      "90/90 [==============================] - 20s 221ms/step - loss: 1.0126 - accuracy: 0.7391 - val_loss: 1.2149 - val_accuracy: 0.7008\n",
      "Epoch 15/20\n",
      "90/90 [==============================] - 20s 226ms/step - loss: 0.9594 - accuracy: 0.7546 - val_loss: 1.2315 - val_accuracy: 0.6910\n",
      "Epoch 16/20\n",
      "90/90 [==============================] - 20s 227ms/step - loss: 0.9221 - accuracy: 0.7599 - val_loss: 1.2356 - val_accuracy: 0.7004\n",
      "Epoch 17/20\n",
      "90/90 [==============================] - 21s 231ms/step - loss: 0.8910 - accuracy: 0.7695 - val_loss: 1.2297 - val_accuracy: 0.6870\n",
      "Epoch 18/20\n",
      "90/90 [==============================] - 21s 228ms/step - loss: 0.8645 - accuracy: 0.7779 - val_loss: 1.1988 - val_accuracy: 0.7044\n",
      "Epoch 19/20\n",
      "90/90 [==============================] - 20s 226ms/step - loss: 0.8187 - accuracy: 0.7861 - val_loss: 1.1785 - val_accuracy: 0.7102\n",
      "Epoch 20/20\n",
      "90/90 [==============================] - 20s 222ms/step - loss: 0.7877 - accuracy: 0.7946 - val_loss: 1.2057 - val_accuracy: 0.7106\n"
     ]
    }
   ],
   "source": [
    "# 모델의 실행\n",
    "history = model.fit(x_train, y_train, batch_size=100, \n",
    "                    epochs=20, validation_data=(x_test, y_test))"
   ]
  },
  {
   "cell_type": "markdown",
   "metadata": {},
   "source": [
    "## 6. 정확도"
   ]
  },
  {
   "cell_type": "code",
   "execution_count": 15,
   "metadata": {},
   "outputs": [
    {
     "name": "stdout",
     "output_type": "stream",
     "text": [
      "71/71 [==============================] - 1s 14ms/step - loss: 1.2057 - accuracy: 0.7106\n",
      "\n",
      " Test Accuracy: 0.7106\n"
     ]
    },
    {
     "data": {
      "image/png": "[encoded data removed]",
      "text/plain": [
       "<Figure size 432x288 with 1 Axes>"
      ]
     },
     "metadata": {
      "needs_background": "light"
     },
     "output_type": "display_data"
    }
   ],
   "source": [
    "# 테스트 정확도 출력\n",
    "print(\"\\n Test Accuracy: %.4f\" % (model.evaluate(x_test, y_test)[1]))\n",
    "\n",
    "\n",
    "# 테스트 셋의 오차\n",
    "y_vloss = history.history['val_loss']\n",
    "\n",
    "# 학습셋의 오차\n",
    "y_loss = history.history['loss']\n",
    "\n",
    "# 그래프로 표현\n",
    "x_len = numpy.arange(len(y_loss))\n",
    "plt.plot(x_len, y_vloss, marker='.', c=\"red\", label='Testset_loss')\n",
    "plt.plot(x_len, y_loss, marker='.', c=\"blue\", label='Trainset_loss')\n",
    "\n",
    "# 그래프에 그리드를 주고 레이블을 표시\n",
    "plt.legend(loc='upper right')\n",
    "plt.grid()\n",
    "plt.xlabel('epoch')\n",
    "plt.ylabel('loss')\n",
    "plt.show()"
   ]
  },
  {
   "cell_type": "code",
   "execution_count": null,
   "metadata": {},
   "outputs": [],
   "source": []
  }
 ],
 "metadata": {
  "kernelspec": {
   "display_name": "Python 3",
   "language": "python",
   "name": "python3"
  },
  "language_info": {
   "codemirror_mode": {
    "name": "ipython",
    "version": 3
   },
   "file_extension": ".py",
   "mimetype": "text/x-python",
   "name": "python",
   "nbconvert_exporter": "python",
   "pygments_lexer": "ipython3",
   "version": "3.7.6"
  },
  "toc": {
   "base_numbering": 1,
   "nav_menu": {},
   "number_sections": false,
   "sideBar": true,
   "skip_h1_title": false,
   "title_cell": "Table of Contents",
   "title_sidebar": "Contents",
   "toc_cell": false,
   "toc_position": {},
   "toc_section_display": true,
   "toc_window_display": false
  }
 },
 "nbformat": 4,
 "nbformat_minor": 2
}
